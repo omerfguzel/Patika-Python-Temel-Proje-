{
 "cells": [
  {
   "cell_type": "markdown",
   "id": "e0d86231",
   "metadata": {},
   "source": [
    "# Python Temel - Proje "
   ]
  },
  {
   "cell_type": "markdown",
   "id": "1376fd45",
   "metadata": {},
   "source": [
    "1. Bir listeyi düzleştiren (flatten) fonksiyon yazın. Elemanları birden çok katmanlı listtlerden ([[3],2] gibi) oluşabileceği gibi, non-scalar verilerden de oluşabilir. Örnek olarak:\n",
    "\n",
    "input: [[1,'a',['cat'],2],[[[3]],'dog'],4,5]\n",
    "\n",
    "output: [1,'a','cat',2,3,'dog',4,5]"
   ]
  },
  {
   "cell_type": "code",
   "execution_count": 5,
   "id": "9ae1b4c7",
   "metadata": {},
   "outputs": [],
   "source": [
    "def flatten(list_of_lists):\n",
    "    if len(list_of_lists) == 0:\n",
    "        return list_of_lists\n",
    "    if isinstance(list_of_lists[0], list):\n",
    "        return flatten(list_of_lists[0]) + flatten(list_of_lists[1:])\n",
    "    return list_of_lists[:1] + flatten(list_of_lists[1:])"
   ]
  },
  {
   "cell_type": "code",
   "execution_count": 6,
   "id": "03c9a67d",
   "metadata": {},
   "outputs": [
    {
     "data": {
      "text/plain": [
       "[1, 'a', 'cat', 2, 3, 'dog', 4, 5]"
      ]
     },
     "execution_count": 6,
     "metadata": {},
     "output_type": "execute_result"
    }
   ],
   "source": [
    "inp = [[1,'a',['cat'],2],[[[3]],'dog'],4,5]\n",
    "flatten(inp)"
   ]
  },
  {
   "cell_type": "markdown",
   "id": "ac6d13e4",
   "metadata": {},
   "source": [
    "2. Verilen listenin içindeki elemanları tersine döndüren bir fonksiyon yazın. Eğer listenin içindeki elemanlar da liste içeriyorsa onların elemanlarını da tersine döndürün. Örnek olarak:\n",
    "\n",
    "input: [[1, 2], [3, 4], [5, 6, 7]]\n",
    "\n",
    "output: [[[7, 6, 5], [4, 3], [2, 1]]\n",
    "\n"
   ]
  },
  {
   "cell_type": "code",
   "execution_count": 7,
   "id": "a55713d7",
   "metadata": {},
   "outputs": [],
   "source": [
    "def reverse(L):\n",
    "    if len(L) == 0:\n",
    "        return\n",
    "\n",
    "    if len(L) == 1:\n",
    "        \n",
    "        if isinstance(L[0], list):\n",
    "            return [reverse(L[0])]\n",
    "        else:\n",
    "            return L\n",
    "    else:\n",
    "        return reverse(L[1:]) + reverse(L[:1])"
   ]
  },
  {
   "cell_type": "code",
   "execution_count": 8,
   "id": "993a99b8",
   "metadata": {
    "scrolled": true
   },
   "outputs": [
    {
     "data": {
      "text/plain": [
       "[[7, 6, 5], [4, 3], [2, 1]]"
      ]
     },
     "execution_count": 8,
     "metadata": {},
     "output_type": "execute_result"
    }
   ],
   "source": [
    "inpp = [[1, 2], [3, 4], [5, 6, 7]]\n",
    "reverse(inpp)"
   ]
  },
  {
   "cell_type": "markdown",
   "id": "3d888857",
   "metadata": {},
   "source": [
    "# Ömer Faruk Güzel"
   ]
  }
 ],
 "metadata": {
  "kernelspec": {
   "display_name": "Python 3",
   "language": "python",
   "name": "python3"
  },
  "language_info": {
   "codemirror_mode": {
    "name": "ipython",
    "version": 3
   },
   "file_extension": ".py",
   "mimetype": "text/x-python",
   "name": "python",
   "nbconvert_exporter": "python",
   "pygments_lexer": "ipython3",
   "version": "3.8.8"
  }
 },
 "nbformat": 4,
 "nbformat_minor": 5
}
